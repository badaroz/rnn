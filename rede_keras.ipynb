{
  "nbformat": 4,
  "nbformat_minor": 0,
  "metadata": {
    "colab": {
      "provenance": [],
      "authorship_tag": "ABX9TyN18EPajv/OltsfENIwjCxK",
      "include_colab_link": true
    },
    "kernelspec": {
      "name": "python3",
      "display_name": "Python 3"
    },
    "language_info": {
      "name": "python"
    }
  },
  "cells": [
    {
      "cell_type": "markdown",
      "metadata": {
        "id": "view-in-github",
        "colab_type": "text"
      },
      "source": [
        "<a href=\"https://colab.research.google.com/github/badaroz/rnn/blob/main/rede_keras.ipynb\" target=\"_parent\"><img src=\"https://colab.research.google.com/assets/colab-badge.svg\" alt=\"Open In Colab\"/></a>"
      ]
    },
    {
      "cell_type": "code",
      "execution_count": 1,
      "metadata": {
        "id": "tleil2MTW1sn"
      },
      "outputs": [],
      "source": [
        "from tensorflow.keras.datasets import reuters\n",
        "from tensorflow import keras\n",
        "from tensorflow.keras import layers\n",
        "from tensorflow.keras.utils import to_categorical\n",
        "from keras.engine.training import optimizer\n",
        "from keras.preprocessing.text import Tokenizer\n",
        "import numpy as np"
      ]
    },
    {
      "cell_type": "code",
      "source": [
        "(train_data, train_labels), (test_data, test_labels) = reuters.load_data()\n",
        "train_data.shape, train_labels.shape, test_data.shape, test_labels.shape"
      ],
      "metadata": {
        "colab": {
          "base_uri": "https://localhost:8080/"
        },
        "id": "HcOzHw-gYBel",
        "outputId": "1950931b-20e2-403a-c487-f156bfb78814"
      },
      "execution_count": 2,
      "outputs": [
        {
          "output_type": "execute_result",
          "data": {
            "text/plain": [
              "((8982,), (8982,), (2246,), (2246,))"
            ]
          },
          "metadata": {},
          "execution_count": 2
        }
      ]
    },
    {
      "cell_type": "code",
      "source": [
        "\n",
        "\n",
        "def decode_words(word_index, sentence):\n",
        "    reverse_word_index = dict(\n",
        "        [(value, key) for (key, value) in word_index.items()]\n",
        "    )\n",
        "    return \" \".join(\n",
        "        [reverse_word_index.get(i-3, \"?\") for i in sentence]\n",
        "    )\n",
        "decode_words(reuters.get_word_index(), x_train[0])    \n"
      ],
      "metadata": {
        "colab": {
          "base_uri": "https://localhost:8080/",
          "height": 70
        },
        "id": "NRwpZwFOYozF",
        "outputId": "a33b16a1-a6a3-40a0-f7ba-58014f39e8a1"
      },
      "execution_count": 126,
      "outputs": [
        {
          "output_type": "execute_result",
          "data": {
            "text/plain": [
              "'? ? ? said as a result of its december acquisition of space co it expects earnings per share in 1987 of 1 15 to 1 30 dlrs per share up from 70 cts in 1986 the company said pretax net should rise to nine to 10 mln dlrs from six mln dlrs in 1986 and rental operation revenues to 19 to 22 mln dlrs from 12 5 mln dlrs it said cash flow per share this year should be 2 50 to three dlrs reuter 3'"
            ],
            "application/vnd.google.colaboratory.intrinsic+json": {
              "type": "string"
            }
          },
          "metadata": {},
          "execution_count": 126
        }
      ]
    },
    {
      "cell_type": "code",
      "source": [
        "tokenizer = Tokenizer(num_words=10000)\n",
        "x_train = tokenizer.sequences_to_matrix(train_data)\n",
        "x_test = tokenizer.sequences_to_matrix(test_data)\n",
        "\n",
        "y_train = to_categorical(train_labels)\n",
        "y_test = to_categorical(test_labels)"
      ],
      "metadata": {
        "id": "RAWf4i2IhzA_"
      },
      "execution_count": 3,
      "outputs": []
    },
    {
      "cell_type": "code",
      "source": [
        "y_train.shape, y_test.shape"
      ],
      "metadata": {
        "colab": {
          "base_uri": "https://localhost:8080/"
        },
        "id": "yj4G3Oblque9",
        "outputId": "4e26dbaa-e48a-4c36-90d8-0a16df99b42f"
      },
      "execution_count": 4,
      "outputs": [
        {
          "output_type": "execute_result",
          "data": {
            "text/plain": [
              "((8982, 46), (2246, 46))"
            ]
          },
          "metadata": {},
          "execution_count": 4
        }
      ]
    },
    {
      "cell_type": "code",
      "source": [
        "n_val = 1000\n",
        "x_val = x_train[:n_val]\n",
        "partial_x_train = x_train[n_val:]\n",
        "y_val = y_train[:n_val]\n",
        "partial_y_train = y_train[n_val:]\n",
        "x_val.shape, partial_x_train.shape, y_val.shape, partial_y_train.shape"
      ],
      "metadata": {
        "colab": {
          "base_uri": "https://localhost:8080/"
        },
        "id": "nZlUgG6bsVxt",
        "outputId": "eadbd550-71a8-4e33-882d-7561cdd97c95"
      },
      "execution_count": 5,
      "outputs": [
        {
          "output_type": "execute_result",
          "data": {
            "text/plain": [
              "((1000, 10000), (7982, 10000), (1000, 46), (7982, 46))"
            ]
          },
          "metadata": {},
          "execution_count": 5
        }
      ]
    },
    {
      "cell_type": "code",
      "source": [
        "model = keras.Sequential([  \n",
        "    # layers.Dense(128, activation=\"tanh\"),\n",
        "    # layers.Dense(64, activation=\"relu\"),\n",
        "    layers.Dense(128, activation=\"relu\"),\n",
        "    layers.Dense(46, activation=\"softmax\")\n",
        "])"
      ],
      "metadata": {
        "id": "nvd4J1PhXm3_"
      },
      "execution_count": 28,
      "outputs": []
    },
    {
      "cell_type": "code",
      "source": [
        "model.compile(optimizer=\"adam\",\n",
        "              loss=\"categorical_crossentropy\",\n",
        "              metrics=[\"accuracy\"])"
      ],
      "metadata": {
        "id": "ly-VyrGkXupy"
      },
      "execution_count": 29,
      "outputs": []
    },
    {
      "cell_type": "code",
      "source": [
        "history = model.fit(partial_x_train,\n",
        "                    partial_y_train,\n",
        "                    epochs=10,\n",
        "                    batch_size=512,\n",
        "                    validation_data=(x_val,y_val))"
      ],
      "metadata": {
        "colab": {
          "base_uri": "https://localhost:8080/"
        },
        "id": "UmH7h2VMX0yh",
        "outputId": "0dd904a2-228e-4dd2-fbea-37a1a395bc6e"
      },
      "execution_count": 30,
      "outputs": [
        {
          "output_type": "stream",
          "name": "stdout",
          "text": [
            "Epoch 1/10\n",
            "16/16 [==============================] - 2s 103ms/step - loss: 2.8642 - accuracy: 0.5095 - val_loss: 1.9632 - val_accuracy: 0.6450\n",
            "Epoch 2/10\n",
            "16/16 [==============================] - 1s 85ms/step - loss: 1.5003 - accuracy: 0.7087 - val_loss: 1.3266 - val_accuracy: 0.7250\n",
            "Epoch 3/10\n",
            "16/16 [==============================] - 1s 84ms/step - loss: 0.9919 - accuracy: 0.7962 - val_loss: 1.0851 - val_accuracy: 0.7810\n",
            "Epoch 4/10\n",
            "16/16 [==============================] - 2s 140ms/step - loss: 0.7153 - accuracy: 0.8592 - val_loss: 0.9678 - val_accuracy: 0.8060\n",
            "Epoch 5/10\n",
            "16/16 [==============================] - 2s 103ms/step - loss: 0.5363 - accuracy: 0.8980 - val_loss: 0.9003 - val_accuracy: 0.8140\n",
            "Epoch 6/10\n",
            "16/16 [==============================] - 1s 84ms/step - loss: 0.4142 - accuracy: 0.9189 - val_loss: 0.8587 - val_accuracy: 0.8240\n",
            "Epoch 7/10\n",
            "16/16 [==============================] - 1s 79ms/step - loss: 0.3284 - accuracy: 0.9339 - val_loss: 0.8375 - val_accuracy: 0.8250\n",
            "Epoch 8/10\n",
            "16/16 [==============================] - 1s 83ms/step - loss: 0.2679 - accuracy: 0.9445 - val_loss: 0.8307 - val_accuracy: 0.8230\n",
            "Epoch 9/10\n",
            "16/16 [==============================] - 1s 80ms/step - loss: 0.2231 - accuracy: 0.9509 - val_loss: 0.8289 - val_accuracy: 0.8230\n",
            "Epoch 10/10\n",
            "16/16 [==============================] - 1s 78ms/step - loss: 0.1913 - accuracy: 0.9526 - val_loss: 0.8298 - val_accuracy: 0.8250\n"
          ]
        }
      ]
    },
    {
      "cell_type": "code",
      "source": [
        "results = model.evaluate(x_test,y_test)"
      ],
      "metadata": {
        "colab": {
          "base_uri": "https://localhost:8080/"
        },
        "id": "iOcbnWtwyhQU",
        "outputId": "cdd0dadd-358b-4f5b-8a0c-7462dde41ef2"
      },
      "execution_count": 31,
      "outputs": [
        {
          "output_type": "stream",
          "name": "stdout",
          "text": [
            "71/71 [==============================] - 0s 5ms/step - loss: 0.9141 - accuracy: 0.7947\n"
          ]
        }
      ]
    }
  ]
}