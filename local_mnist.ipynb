{
  "nbformat": 4,
  "nbformat_minor": 0,
  "metadata": {
    "colab": {
      "provenance": [],
      "include_colab_link": true
    },
    "kernelspec": {
      "name": "python3",
      "display_name": "Python 3"
    },
    "language_info": {
      "name": "python"
    }
  },
  "cells": [
    {
      "cell_type": "markdown",
      "metadata": {
        "id": "view-in-github",
        "colab_type": "text"
      },
      "source": [
        "<a href=\"https://colab.research.google.com/github/badaroz/rnn/blob/main/local_mnist.ipynb\" target=\"_parent\"><img src=\"https://colab.research.google.com/assets/colab-badge.svg\" alt=\"Open In Colab\"/></a>"
      ]
    },
    {
      "cell_type": "code",
      "source": [
        "from google.colab import drive\n",
        "drive.mount('/content/drive')"
      ],
      "metadata": {
        "colab": {
          "base_uri": "https://localhost:8080/"
        },
        "id": "5JqYfi7l8DIO",
        "outputId": "d161f1b7-7a30-4ed6-d4d4-6d6637483915"
      },
      "execution_count": 1,
      "outputs": [
        {
          "output_type": "stream",
          "name": "stdout",
          "text": [
            "Mounted at /content/drive\n"
          ]
        }
      ]
    },
    {
      "cell_type": "code",
      "source": [
        "import numpy as np \n",
        "import struct\n",
        "from array import array\n",
        "from os.path  import join\n",
        "\n",
        "class MnistDataloader(object):\n",
        "    def __init__(self, training_images_filepath,training_labels_filepath,\n",
        "                 test_images_filepath, test_labels_filepath):\n",
        "        self.training_images_filepath = training_images_filepath\n",
        "        self.training_labels_filepath = training_labels_filepath\n",
        "        self.test_images_filepath = test_images_filepath\n",
        "        self.test_labels_filepath = test_labels_filepath\n",
        "    \n",
        "    def read_images_labels(self, images_filepath, labels_filepath):        \n",
        "        labels = []\n",
        "        with open(labels_filepath, 'rb') as file:\n",
        "            magic, size = struct.unpack(\">II\", file.read(8))\n",
        "            if magic != 2049:\n",
        "                raise ValueError('Magic number mismatch, expected 2049, got {}'.format(magic))\n",
        "            labels = array(\"B\", file.read())        \n",
        "        \n",
        "        with open(images_filepath, 'rb') as file:\n",
        "            magic, size, rows, cols = struct.unpack(\">IIII\", file.read(16))\n",
        "            if magic != 2051:\n",
        "                raise ValueError('Magic number mismatch, expected 2051, got {}'.format(magic))\n",
        "            image_data = array(\"B\", file.read())        \n",
        "        images = []\n",
        "        for i in range(size):\n",
        "            images.append([0] * rows * cols)\n",
        "        for i in range(size):\n",
        "            img = np.array(image_data[i * rows * cols:(i + 1) * rows * cols])\n",
        "            img = img.reshape(28, 28)\n",
        "            images[i][:] = img            \n",
        "        \n",
        "        return images, labels\n",
        "            \n",
        "    def load_data(self):\n",
        "        x_train, y_train = self.read_images_labels(self.training_images_filepath, self.training_labels_filepath)\n",
        "        x_test, y_test = self.read_images_labels(self.test_images_filepath, self.test_labels_filepath)\n",
        "        return (x_train, y_train),(x_test, y_test)        \n"
      ],
      "metadata": {
        "id": "KQWjySox8ZlZ"
      },
      "execution_count": 2,
      "outputs": []
    },
    {
      "cell_type": "code",
      "source": [
        "input_path = '/content/drive/MyDrive/IFES/mnist'\n",
        "training_images_filepath = join(input_path, 'train-images-idx3-ubyte/train-images-idx3-ubyte')\n",
        "training_labels_filepath = join(input_path, 'train-labels-idx1-ubyte/train-labels-idx1-ubyte')\n",
        "test_images_filepath = join(input_path, 't10k-images-idx3-ubyte/t10k-images-idx3-ubyte')\n",
        "test_labels_filepath = join(input_path, 't10k-labels-idx1-ubyte/t10k-labels-idx1-ubyte')\n",
        "\n",
        "mnist_dataloader = MnistDataloader(training_images_filepath, training_labels_filepath, test_images_filepath, test_labels_filepath)\n",
        "(train_images, train_labels), (test_images, test_labels) = mnist_dataloader.load_data()"
      ],
      "metadata": {
        "id": "r1cepgfzCD69"
      },
      "execution_count": 3,
      "outputs": []
    },
    {
      "cell_type": "code",
      "source": [
        "train_images = np.array(train_images)\n",
        "train_labels = np.array(train_labels)\n",
        "test_images = np.array(test_images)\n",
        "test_labels = np.array(test_labels)"
      ],
      "metadata": {
        "id": "DaoEhqJi_UV-"
      },
      "execution_count": 4,
      "outputs": []
    },
    {
      "cell_type": "code",
      "source": [
        "train_images.shape, len(train_labels), train_labels"
      ],
      "metadata": {
        "colab": {
          "base_uri": "https://localhost:8080/"
        },
        "id": "Gcqlvdpgfj6T",
        "outputId": "80f28620-e59d-470c-e332-acbf75bbeda8"
      },
      "execution_count": 5,
      "outputs": [
        {
          "output_type": "execute_result",
          "data": {
            "text/plain": [
              "((60000, 28, 28), 60000, array([5, 0, 4, ..., 5, 6, 8], dtype=uint8))"
            ]
          },
          "metadata": {},
          "execution_count": 5
        }
      ]
    },
    {
      "cell_type": "code",
      "source": [
        "import matplotlib.pyplot as plt\n",
        "%matplotlib inline\n",
        "\n",
        "plt.imshow(train_images[0], cmap='gray')\n",
        "plt.show()"
      ],
      "metadata": {
        "colab": {
          "base_uri": "https://localhost:8080/",
          "height": 430
        },
        "id": "t0sSA-3PgPq-",
        "outputId": "43ebfc30-c8b5-48dd-b5ce-b8c42540d0ac"
      },
      "execution_count": 6,
      "outputs": [
        {
          "output_type": "display_data",
          "data": {
            "text/plain": [
              "<Figure size 640x480 with 1 Axes>"
            ],
            "image/png": "[encoded data removed]"
          },
          "metadata": {}
        }
      ]
    },
    {
      "cell_type": "code",
      "source": [
        "test_images.shape, len(test_labels), test_labels"
      ],
      "metadata": {
        "colab": {
          "base_uri": "https://localhost:8080/"
        },
        "id": "PJ8PpU2FfoT2",
        "outputId": "bf41af16-64a3-43ff-f133-2dd04b5b970a"
      },
      "execution_count": 7,
      "outputs": [
        {
          "output_type": "execute_result",
          "data": {
            "text/plain": [
              "((10000, 28, 28), 10000, array([7, 2, 1, ..., 4, 5, 6], dtype=uint8))"
            ]
          },
          "metadata": {},
          "execution_count": 7
        }
      ]
    },
    {
      "cell_type": "code",
      "source": [
        "from tensorflow import keras\n",
        "from tensorflow.keras import layers\n",
        "model = keras.Sequential([\n",
        "    layers.Dense(512, activation=\"relu\"),\n",
        "    layers.Dense(10, activation=\"softmax\")\n",
        "])"
      ],
      "metadata": {
        "id": "ahDOnrzvf0PV"
      },
      "execution_count": 8,
      "outputs": []
    },
    {
      "cell_type": "code",
      "source": [
        "model.compile(optimizer=\"rmsprop\",\n",
        "              loss=\"sparse_categorical_crossentropy\",\n",
        "              metrics=[\"accuracy\"])"
      ],
      "metadata": {
        "id": "XkggT9gIiFg7"
      },
      "execution_count": 9,
      "outputs": []
    },
    {
      "cell_type": "code",
      "source": [
        "train_images = train_images.reshape((60000, 28 * 28))\n",
        "train_images = train_images.astype(\"float32\") / 255\n",
        "test_images = test_images.reshape((10000, 28 * 28))\n",
        "test_images = test_images.astype(\"float32\") / 255"
      ],
      "metadata": {
        "id": "oGlkliSUi7ot"
      },
      "execution_count": 10,
      "outputs": []
    },
    {
      "cell_type": "code",
      "source": [
        "(train_images.shape, train_labels), (test_images.shape, test_labels)"
      ],
      "metadata": {
        "colab": {
          "base_uri": "https://localhost:8080/"
        },
        "id": "M555L5eDkRTf",
        "outputId": "df15996a-de8a-42da-e8c5-330c855e8e01"
      },
      "execution_count": 11,
      "outputs": [
        {
          "output_type": "execute_result",
          "data": {
            "text/plain": [
              "(((60000, 784), array([5, 0, 4, ..., 5, 6, 8], dtype=uint8)),\n",
              " ((10000, 784), array([7, 2, 1, ..., 4, 5, 6], dtype=uint8)))"
            ]
          },
          "metadata": {},
          "execution_count": 11
        }
      ]
    },
    {
      "cell_type": "code",
      "source": [
        "model.fit(train_images, train_labels, epochs=5, batch_size=128)"
      ],
      "metadata": {
        "colab": {
          "base_uri": "https://localhost:8080/"
        },
        "id": "fLTBB7dEkX7R",
        "outputId": "a979e4b8-7fde-4675-8a82-283630b2da09"
      },
      "execution_count": 12,
      "outputs": [
        {
          "output_type": "stream",
          "name": "stdout",
          "text": [
            "Epoch 1/5\n",
            "469/469 [==============================] - 7s 13ms/step - loss: 0.2663 - accuracy: 0.9245\n",
            "Epoch 2/5\n",
            "469/469 [==============================] - 4s 9ms/step - loss: 0.1078 - accuracy: 0.9683\n",
            "Epoch 3/5\n",
            "469/469 [==============================] - 4s 9ms/step - loss: 0.0701 - accuracy: 0.9798\n",
            "Epoch 4/5\n",
            "469/469 [==============================] - 6s 13ms/step - loss: 0.0513 - accuracy: 0.9845\n",
            "Epoch 5/5\n",
            "469/469 [==============================] - 5s 10ms/step - loss: 0.0382 - accuracy: 0.9886\n"
          ]
        },
        {
          "output_type": "execute_result",
          "data": {
            "text/plain": [
              "<keras.callbacks.History at 0x7f173d3b9ed0>"
            ]
          },
          "metadata": {},
          "execution_count": 12
        }
      ]
    },
    {
      "cell_type": "code",
      "source": [
        "predicted = model.predict(test_images[0:1])\n",
        "predicted[0]"
      ],
      "metadata": {
        "colab": {
          "base_uri": "https://localhost:8080/"
        },
        "id": "KLFJzUn5k15k",
        "outputId": "dd20c059-7255-436b-81a6-7837afead4ad"
      },
      "execution_count": 13,
      "outputs": [
        {
          "output_type": "stream",
          "name": "stdout",
          "text": [
            "1/1 [==============================] - 0s 87ms/step\n"
          ]
        },
        {
          "output_type": "execute_result",
          "data": {
            "text/plain": [
              "array([1.02469095e-07, 2.78684809e-08, 9.64116261e-05, 1.51435123e-03,\n",
              "       1.31822164e-10, 1.33864376e-06, 9.87656051e-12, 9.98373985e-01,\n",
              "       3.63768322e-06, 1.02213480e-05], dtype=float32)"
            ]
          },
          "metadata": {},
          "execution_count": 13
        }
      ]
    },
    {
      "cell_type": "code",
      "source": [
        "predicted[0].argmax()"
      ],
      "metadata": {
        "colab": {
          "base_uri": "https://localhost:8080/"
        },
        "id": "qktJXuz4lI0h",
        "outputId": "783b9567-b958-4ecc-9d0b-9609c2edca33"
      },
      "execution_count": 14,
      "outputs": [
        {
          "output_type": "execute_result",
          "data": {
            "text/plain": [
              "7"
            ]
          },
          "metadata": {},
          "execution_count": 14
        }
      ]
    },
    {
      "cell_type": "code",
      "source": [
        "predicted[0][7]"
      ],
      "metadata": {
        "colab": {
          "base_uri": "https://localhost:8080/"
        },
        "id": "5OFbgBU2lXEh",
        "outputId": "f0534796-f48f-480f-8783-87011dfa1b1a"
      },
      "execution_count": 15,
      "outputs": [
        {
          "output_type": "execute_result",
          "data": {
            "text/plain": [
              "0.998374"
            ]
          },
          "metadata": {},
          "execution_count": 15
        }
      ]
    },
    {
      "cell_type": "code",
      "source": [
        "test_labels[0]"
      ],
      "metadata": {
        "colab": {
          "base_uri": "https://localhost:8080/"
        },
        "id": "WqkI15rKli40",
        "outputId": "75f705f1-a31d-458a-859e-e28ba1de868e"
      },
      "execution_count": 16,
      "outputs": [
        {
          "output_type": "execute_result",
          "data": {
            "text/plain": [
              "7"
            ]
          },
          "metadata": {},
          "execution_count": 16
        }
      ]
    },
    {
      "cell_type": "code",
      "source": [
        "test_loss, test_acc = model.evaluate(test_images, test_labels)\n",
        "print(f\"test_acc: {test_acc}\")"
      ],
      "metadata": {
        "colab": {
          "base_uri": "https://localhost:8080/"
        },
        "id": "BdP49CnTlnff",
        "outputId": "c8d879a4-be3c-4d2b-afa1-5d4a184ecff7"
      },
      "execution_count": 17,
      "outputs": [
        {
          "output_type": "stream",
          "name": "stdout",
          "text": [
            "313/313 [==============================] - 1s 3ms/step - loss: 0.0637 - accuracy: 0.9795\n",
            "test_acc: 0.9794999957084656\n"
          ]
        }
      ]
    },
    {
      "cell_type": "code",
      "source": [
        "from tensorflow.keras.utils import to_categorical\n",
        "train_labels_hot = to_categorical(train_labels)\n",
        "test_labels_hot = to_categorical(test_labels)"
      ],
      "metadata": {
        "id": "p1wYjLX_ptkS"
      },
      "execution_count": 18,
      "outputs": []
    },
    {
      "cell_type": "code",
      "source": [
        "from keras.utils.sidecar_evaluator import optimizer\n",
        "from prompt_toolkit.shortcuts.progress_bar.base import E\n",
        "from sklearn.base import BaseEstimator, ClassifierMixin\n",
        "from tensorflow import keras\n",
        "from tensorflow.keras import layers\n",
        "from sklearn.metrics import accuracy_score\n",
        "import numpy as np\n",
        "\n",
        "class RedeNeural(BaseEstimator, ClassifierMixin):\n",
        "  def __init__(self, epochs=5, batch_size=128):\n",
        "    self.epochs = epochs\n",
        "    self.batch_size = batch_size\n",
        "  def fit(self, X, y):\n",
        "    self.model = keras.Sequential([\n",
        "        layers.Dense(512, activation=\"relu\"),\n",
        "        layers.Dense(y.shape[1], activation=\"softmax\")\n",
        "    ])\n",
        "    self.model.compile(optimizer=\"rmsprop\",\n",
        "                       loss=\"categorical_crossentropy\",\n",
        "                       metrics=[\"accuracy\"])\n",
        "    self.model.fit(X, y, epochs=self.epochs, batch_size=self.batch_size)\n",
        "    return self\n",
        "  def predict(self, X, y=None):\n",
        "    probabilities = self.model.predict(X)\n",
        "    return np.array([(a == np.max(a)) for a in probabilities])\n",
        "\n",
        "modelo = RedeNeural()\n",
        "modelo.fit(train_images, train_labels_hot)\n",
        "ypred = modelo.predict(test_images)\n",
        "accuracy_score(test_labels_hot, ypred)"
      ],
      "metadata": {
        "colab": {
          "base_uri": "https://localhost:8080/"
        },
        "id": "g0GlrfoVmDPy",
        "outputId": "94d9fff4-5b89-411d-bacc-dee3af44ce78"
      },
      "execution_count": 19,
      "outputs": [
        {
          "output_type": "stream",
          "name": "stdout",
          "text": [
            "Epoch 1/5\n",
            "469/469 [==============================] - 7s 13ms/step - loss: 0.2664 - accuracy: 0.9241\n",
            "Epoch 2/5\n",
            "469/469 [==============================] - 4s 9ms/step - loss: 0.1089 - accuracy: 0.9677\n",
            "Epoch 3/5\n",
            "469/469 [==============================] - 4s 9ms/step - loss: 0.0707 - accuracy: 0.9789\n",
            "Epoch 4/5\n",
            "469/469 [==============================] - 6s 13ms/step - loss: 0.0520 - accuracy: 0.9838\n",
            "Epoch 5/5\n",
            "469/469 [==============================] - 4s 9ms/step - loss: 0.0388 - accuracy: 0.9881\n",
            "313/313 [==============================] - 1s 2ms/step\n"
          ]
        },
        {
          "output_type": "execute_result",
          "data": {
            "text/plain": [
              "0.9801"
            ]
          },
          "metadata": {},
          "execution_count": 19
        }
      ]
    },
    {
      "cell_type": "code",
      "source": [
        "from keras.utils.sidecar_evaluator import optimizer\n",
        "from prompt_toolkit.shortcuts.progress_bar.base import E\n",
        "from sklearn.base import BaseEstimator, ClassifierMixin\n",
        "from tensorflow import keras\n",
        "from tensorflow.keras import layers\n",
        "from sklearn.metrics import accuracy_score\n",
        "import numpy as np\n",
        "\n",
        "class RedeNeural(BaseEstimator, ClassifierMixin):\n",
        "  def __init__(self, epochs=5, batch_size=128):\n",
        "    self.epochs = epochs\n",
        "    self.batch_size = batch_size\n",
        "\n",
        "  def fit(self, X, y):\n",
        "    self.labels, ids = np.unique(y, return_inverse=True)\n",
        "    yhot = keras.utils.to_categorical(ids)\n",
        "    self.model = keras.Sequential([\n",
        "        layers.Dense(512, activation=\"relu\"),\n",
        "        layers.Dense(yhot.shape[1], activation=\"softmax\")\n",
        "    ])\n",
        "    self.model.compile(optimizer=\"rmsprop\",\n",
        "                       loss=\"categorical_crossentropy\",\n",
        "                       metrics=[\"accuracy\"])\n",
        "    self.model.fit(X, yhot, epochs=self.epochs, batch_size=self.batch_size)\n",
        "    return self\n",
        "\n",
        "  def predict(self, X, y=None):\n",
        "    probabilities = self.model.predict(X)\n",
        "    ypred = self.labels[np.argmax(probabilities, axis=1)]\n",
        "    return ypred\n",
        "\n",
        "modelo = RedeNeural()\n",
        "modelo.fit(train_images, train_labels)\n",
        "ypred = modelo.predict(test_images)\n",
        "accuracy_score(test_labels, ypred)"
      ],
      "metadata": {
        "colab": {
          "base_uri": "https://localhost:8080/"
        },
        "id": "biZxY9y-tvsu",
        "outputId": "28df4686-4c2c-47fa-956c-8ce9f2ce5808"
      },
      "execution_count": 20,
      "outputs": [
        {
          "output_type": "stream",
          "name": "stdout",
          "text": [
            "Epoch 1/5\n",
            "469/469 [==============================] - 7s 13ms/step - loss: 0.2638 - accuracy: 0.9237\n",
            "Epoch 2/5\n",
            "469/469 [==============================] - 4s 9ms/step - loss: 0.1064 - accuracy: 0.9688\n",
            "Epoch 3/5\n",
            "469/469 [==============================] - 4s 9ms/step - loss: 0.0705 - accuracy: 0.9790\n",
            "Epoch 4/5\n",
            "469/469 [==============================] - 6s 13ms/step - loss: 0.0501 - accuracy: 0.9852\n",
            "Epoch 5/5\n",
            "469/469 [==============================] - 4s 9ms/step - loss: 0.0373 - accuracy: 0.9891\n",
            "313/313 [==============================] - 1s 2ms/step\n"
          ]
        },
        {
          "output_type": "execute_result",
          "data": {
            "text/plain": [
              "0.9787"
            ]
          },
          "metadata": {},
          "execution_count": 20
        }
      ]
    },
    {
      "cell_type": "code",
      "source": [
        "mnist_dataloader = MnistDataloader(training_images_filepath, training_labels_filepath, test_images_filepath, test_labels_filepath)\n",
        "(train_images, train_labels), (test_images, test_labels) = mnist_dataloader.load_data()"
      ],
      "metadata": {
        "id": "5yojlp9iu-Pv"
      },
      "execution_count": 21,
      "outputs": []
    },
    {
      "cell_type": "code",
      "source": [
        "train_images = np.array(train_images)\n",
        "train_labels = np.array(train_labels)\n",
        "test_images = np.array(test_images)\n",
        "test_labels = np.array(test_labels)"
      ],
      "metadata": {
        "id": "jpVncVG4yGAY"
      },
      "execution_count": 23,
      "outputs": []
    },
    {
      "cell_type": "code",
      "source": [
        "train_images = train_images.reshape((60000, 28 * 28))\n",
        "test_images = test_images.reshape((10000, 28 * 28))"
      ],
      "metadata": {
        "id": "UyHTc6_-vP5J"
      },
      "execution_count": 24,
      "outputs": []
    },
    {
      "cell_type": "code",
      "source": [
        "from sklearn.pipeline import Pipeline\n",
        "from sklearn.preprocessing import MinMaxScaler\n",
        "\n",
        "modelo = Pipeline([\n",
        "    (\"scaler\", MinMaxScaler()), \n",
        "    (\"ann\", RedeNeural())\n",
        "])\n",
        "modelo.fit(train_images, train_labels)\n",
        "ypred = modelo.predict(test_images)\n",
        "accuracy_score(test_labels, ypred)"
      ],
      "metadata": {
        "colab": {
          "base_uri": "https://localhost:8080/"
        },
        "id": "MZmjfs0evAvR",
        "outputId": "fb61b5e9-1d38-428d-cae2-ca58fd4eadaa"
      },
      "execution_count": 25,
      "outputs": [
        {
          "output_type": "stream",
          "name": "stdout",
          "text": [
            "Epoch 1/5\n",
            "469/469 [==============================] - 7s 14ms/step - loss: 0.2620 - accuracy: 0.9247\n",
            "Epoch 2/5\n",
            "469/469 [==============================] - 4s 9ms/step - loss: 0.1068 - accuracy: 0.9685\n",
            "Epoch 3/5\n",
            "469/469 [==============================] - 4s 9ms/step - loss: 0.0695 - accuracy: 0.9797\n",
            "Epoch 4/5\n",
            "469/469 [==============================] - 6s 13ms/step - loss: 0.0502 - accuracy: 0.9843\n",
            "Epoch 5/5\n",
            "469/469 [==============================] - 4s 9ms/step - loss: 0.0375 - accuracy: 0.9886\n",
            "313/313 [==============================] - 1s 2ms/step\n"
          ]
        },
        {
          "output_type": "execute_result",
          "data": {
            "text/plain": [
              "0.9786"
            ]
          },
          "metadata": {},
          "execution_count": 25
        }
      ]
    },
    {
      "cell_type": "code",
      "source": [
        "from sklearn.base import BaseEstimator, TransformerMixin\n",
        "\n",
        "class DividePor255(BaseEstimator, TransformerMixin):\n",
        "  def fit(self, X, y):\n",
        "    return self\n",
        "  def transform(self, X, y=None):\n",
        "    return X.astype(\"float32\") / 255\n",
        "\n",
        "from sklearn.pipeline import Pipeline\n",
        "\n",
        "modelo = Pipeline([\n",
        "    (\"scaler\", DividePor255()), \n",
        "    (\"ann\", RedeNeural())\n",
        "])\n",
        "modelo.fit(train_images, train_labels)\n",
        "ypred = modelo.predict(test_images)\n",
        "accuracy_score(test_labels, ypred)"
      ],
      "metadata": {
        "colab": {
          "base_uri": "https://localhost:8080/"
        },
        "id": "H4orTgf1yoJL",
        "outputId": "a8f4a801-8859-4173-82f5-9500959d03c4"
      },
      "execution_count": 26,
      "outputs": [
        {
          "output_type": "stream",
          "name": "stdout",
          "text": [
            "Epoch 1/5\n",
            "469/469 [==============================] - 5s 10ms/step - loss: 0.2628 - accuracy: 0.9241\n",
            "Epoch 2/5\n",
            "469/469 [==============================] - 6s 12ms/step - loss: 0.1067 - accuracy: 0.9684\n",
            "Epoch 3/5\n",
            "469/469 [==============================] - 4s 9ms/step - loss: 0.0701 - accuracy: 0.9790\n",
            "Epoch 4/5\n",
            "469/469 [==============================] - 4s 9ms/step - loss: 0.0509 - accuracy: 0.9852\n",
            "Epoch 5/5\n",
            "469/469 [==============================] - 6s 13ms/step - loss: 0.0376 - accuracy: 0.9889\n",
            "313/313 [==============================] - 1s 2ms/step\n"
          ]
        },
        {
          "output_type": "execute_result",
          "data": {
            "text/plain": [
              "0.9788"
            ]
          },
          "metadata": {},
          "execution_count": 26
        }
      ]
    },
    {
      "cell_type": "code",
      "source": [
        "mnist_dataloader = MnistDataloader(training_images_filepath, training_labels_filepath, test_images_filepath, test_labels_filepath)\n",
        "(train_images, train_labels), (test_images, test_labels) = mnist_dataloader.load_data()"
      ],
      "metadata": {
        "id": "ithmDGLSz9fj"
      },
      "execution_count": 27,
      "outputs": []
    },
    {
      "cell_type": "code",
      "source": [
        "train_images = np.array(train_images)\n",
        "train_labels = np.array(train_labels)\n",
        "test_images = np.array(test_images)\n",
        "test_labels = np.array(test_labels)"
      ],
      "metadata": {
        "id": "z1fHMRhfAnuQ"
      },
      "execution_count": 28,
      "outputs": []
    },
    {
      "cell_type": "code",
      "source": [
        "from keras.utils.sidecar_evaluator import optimizer\n",
        "from prompt_toolkit.shortcuts.progress_bar.base import E\n",
        "from sklearn.base import BaseEstimator, ClassifierMixin\n",
        "from tensorflow import keras\n",
        "from tensorflow.keras import layers\n",
        "from sklearn.metrics import accuracy_score\n",
        "import numpy as np\n",
        "\n",
        "class RedeNeural(BaseEstimator, ClassifierMixin):\n",
        "  def __init__(self, epochs=5, batch_size=128):\n",
        "    self.epochs = epochs\n",
        "    self.batch_size = batch_size\n",
        "\n",
        "  def fit(self, X, y):\n",
        "    self.labels, ids = np.unique(y, return_inverse=True)\n",
        "    yhot = keras.utils.to_categorical(ids)\n",
        "    self.model = keras.Sequential([\n",
        "        layers.Conv2D(4, 4, activation='relu'),\n",
        "        layers.Flatten(),\n",
        "        layers.Dense(512, activation=\"relu\"),\n",
        "        layers.Dense(yhot.shape[1], activation=\"softmax\")\n",
        "    ])\n",
        "    self.model.compile(optimizer=\"rmsprop\",\n",
        "                       loss=\"categorical_crossentropy\",\n",
        "                       metrics=[\"accuracy\"])\n",
        "    self.model.fit(X, yhot, epochs=self.epochs, batch_size=self.batch_size)\n",
        "    return self\n",
        "\n",
        "  def predict(self, X, y=None):\n",
        "    probabilities = self.model.predict(X)\n",
        "    ypred = self.labels[np.argmax(probabilities, axis=1)]\n",
        "    return ypred\n",
        "\n",
        "class MudaShape(BaseEstimator, TransformerMixin):\n",
        "  def fit(self, X, y):\n",
        "    return self\n",
        "  def transform(self, X, y=None):\n",
        "    return X.reshape((-1,28,28,1))\n",
        "\n",
        "modelo = Pipeline([\n",
        "    (\"scaler\", DividePor255()), \n",
        "    (\"reshape\", MudaShape()), \n",
        "    (\"ann\", RedeNeural())\n",
        "])\n",
        "modelo.fit(train_images, train_labels)\n",
        "ypred = modelo.predict(test_images)\n",
        "accuracy_score(test_labels, ypred)"
      ],
      "metadata": {
        "colab": {
          "base_uri": "https://localhost:8080/"
        },
        "id": "l6Jp9PoTzqgd",
        "outputId": "d4ceb6e5-725c-4a31-ef59-314026162717"
      },
      "execution_count": 29,
      "outputs": [
        {
          "output_type": "stream",
          "name": "stdout",
          "text": [
            "Epoch 1/5\n",
            "469/469 [==============================] - 31s 66ms/step - loss: 0.2196 - accuracy: 0.9341\n",
            "Epoch 2/5\n",
            "469/469 [==============================] - 31s 66ms/step - loss: 0.0706 - accuracy: 0.9783\n",
            "Epoch 3/5\n",
            "469/469 [==============================] - 32s 69ms/step - loss: 0.0430 - accuracy: 0.9869\n",
            "Epoch 4/5\n",
            "469/469 [==============================] - 32s 67ms/step - loss: 0.0283 - accuracy: 0.9913\n",
            "Epoch 5/5\n",
            "469/469 [==============================] - 31s 66ms/step - loss: 0.0191 - accuracy: 0.9941\n",
            "313/313 [==============================] - 3s 9ms/step\n"
          ]
        },
        {
          "output_type": "execute_result",
          "data": {
            "text/plain": [
              "0.9823"
            ]
          },
          "metadata": {},
          "execution_count": 29
        }
      ]
    }
  ]
}